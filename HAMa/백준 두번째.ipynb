{
 "cells": [
  {
   "cell_type": "code",
   "execution_count": null,
   "id": "1e48b000",
   "metadata": {},
   "outputs": [],
   "source": [
    "# 백준 2884 알람시계\n",
    "h,m = map(int,input().split())\n",
    "if m < 45 :   # 45분을 뺴게 되니까 h가 0일 때는 23으로 변경되어야함.\n",
    "    if h == 0 :  # = : 할당연산자 / == : a=b (좌측데이터 = 우측데이터 )\n",
    "        h = 23\n",
    "        m += 60   # m += 60 --> m = m + 60\n",
    "    else: \n",
    "        h -= 1    # h -= 1 --> h = h -1 \n",
    "        m += 60   # m = m + 60\n",
    "        \n",
    "print(h,m-45)\n"
   ]
  },
  {
   "cell_type": "code",
   "execution_count": null,
   "id": "f7f8274f",
   "metadata": {},
   "outputs": [],
   "source": [
    "# 백준 2908 상수\n",
    "a,b = input().split()   # 왜 여기서 int가 들어가면 안됩니까?\n",
    "\n",
    "a = int(a[::-1])  # [::-1] 역순\n",
    "b = int(b[::-1])\n",
    "\n",
    "print(a) if a>b else print(b)\n",
    "\n"
   ]
  },
  {
   "cell_type": "code",
   "execution_count": null,
   "id": "0e381cd9",
   "metadata": {},
   "outputs": [],
   "source": [
    "# 백준 2920 음계\n",
    "# sort 정렬, 기본값은 오름차순 정렬, reverse옵션 True는 내림차순 정렬\n",
    "# sort의 key옵션, 지정된 함수의 결과에 따라 정렬\n",
    "\n",
    "a = list(map(int,input().split()))\n",
    "result = [1,2,3,4,5,6,7,8]\n",
    "\n",
    "if a == result:\n",
    "    print (\"ascending\")\n",
    "elif a == result[::-1]:  #elif : else if \n",
    "    print(\"descending\")\n",
    "else:\n",
    "    print(\"mixed\")\n",
    "    \n",
    "    "
   ]
  },
  {
   "cell_type": "code",
   "execution_count": null,
   "id": "f70425c0",
   "metadata": {},
   "outputs": [],
   "source": [
    "#백준 3052 나머지\n",
    "\n",
    "arr = []\n",
    "for i in range(10):\n",
    "    n= int(input())\n",
    "    arr.append(n%42)\n",
    "\n",
    "arr = set(arr)\n",
    "print(len(arr))\n"
   ]
  },
  {
   "cell_type": "code",
   "execution_count": null,
   "id": "30792f8a",
   "metadata": {},
   "outputs": [],
   "source": [
    "# 백준 8958 OX\n",
    "\n",
    "a= int(input())\n",
    "for i in range(a):\n",
    "    b=input()\n",
    "    s=list(b)\n",
    "    sum=0\n",
    "    c=1\n",
    "    for i in s:\n",
    "        if i == 'O':\n",
    "            sum += c\n",
    "            c += 1\n",
    "        else:\n",
    "            c=1\n",
    "    print (sum)"
   ]
  },
  {
   "cell_type": "code",
   "execution_count": null,
   "id": "1cd9a043",
   "metadata": {
    "scrolled": true
   },
   "outputs": [],
   "source": [
    "# 백준 8958 OX (2)\n",
    "\n",
    "a= int(input())\n",
    "                        #처음에 정수 a를 받고 이후 for 문을 a번 만큼 반복\n",
    "for i in range(a):   \n",
    "    b = list(input())  \n",
    "    score = 0    #score 변수를 0으로 지정\n",
    "    sum_score = 0   # 새로운 ox리스트를 입력받으면 점수 합계를 리셋.\n",
    "    for ox in b:   \n",
    "        if ox == 'O':\n",
    "            score += 1   # 'O'가 연속되면 점수가 1씪 커짐\n",
    "            sum_score += score\n",
    "        else:\n",
    "            score = 0\n",
    "    print (sum_score)"
   ]
  },
  {
   "cell_type": "code",
   "execution_count": null,
   "id": "c34c0b6f",
   "metadata": {},
   "outputs": [],
   "source": [
    "#백준 9498 시험성적\n",
    "\n",
    "a = int(input())\n",
    "\n",
    "if a <= 100 and a >= 90:\n",
    "    print ('A')\n",
    "\n",
    "\n",
    "elif a <= 89 and a >= 80:\n",
    "    print ('B')\n",
    "\n",
    "\n",
    "elif a <= 79 and a >= 70:\n",
    "    print ('C')\n",
    "    \n",
    "elif a <= 69 and a >= 60:\n",
    "    print ('D')\n",
    "\n",
    "else:\n",
    "    print ('F')"
   ]
  },
  {
   "cell_type": "code",
   "execution_count": 18,
   "id": "be521c8a",
   "metadata": {},
   "outputs": [
    {
     "name": "stdout",
     "output_type": "stream",
     "text": [
      "\\    /\\\n",
      " )  ( ')\n",
      "(  /  )\n",
      " \\(__)|\n",
      "\\    /\\\n",
      " )  ( ')\n",
      "(  /  )\n",
      " \\(__)|\n"
     ]
    }
   ],
   "source": [
    "#백준 10171 고양이\n",
    "\n",
    "print(\"\\\\    /\\\\\")\n",
    "print(\" )  ( ')\")\n",
    "print(\"(  /  )\")\n",
    "print(\" \\\\(__)|\")\n",
    "\n",
    "print(\"\\\\    /\\\\\")\n",
    "print(\" )  ( ')\")\n",
    "print(\"(  /  )\")\n",
    "print(\" \\\\(__)|\")\n",
    "\n"
   ]
  },
  {
   "cell_type": "code",
   "execution_count": 23,
   "id": "2990a707",
   "metadata": {},
   "outputs": [
    {
     "name": "stdout",
     "output_type": "stream",
     "text": [
      "|\\_/|\n",
      "|q p|   /}\n",
      "( 0 )\"\"\"\\\n",
      "|\"^\"`    |\n",
      "||_/=\\\\__|\n"
     ]
    }
   ],
   "source": [
    "#백준 10172 개\n",
    "\n",
    "print(\"|\\_/|\")\n",
    "print(\"|q p|   /}\")\n",
    "print(\"( 0 )\\\"\\\"\\\"\\\\\")\n",
    "print(\"|\\\"^\\\"`    |\")\n",
    "print(\"||_/=\\\\\\__|\")"
   ]
  },
  {
   "cell_type": "code",
   "execution_count": null,
   "id": "59e5150d",
   "metadata": {},
   "outputs": [],
   "source": [
    "#백준 10809 알파벳 찾기\n",
    "\n",
    "word = input()\n",
    "alphabet =list(range(97,123)) #아스키코드 숫자범위(?) : a =97, z =122\n",
    "#근데 왜 123까지 함>?\n",
    "\n",
    "for i in alphabet :\n",
    "    print(word.find(chr(i)))   #chr : 아스키 코드에 해당하는 숫자를 문자열로 변환"
   ]
  },
  {
   "cell_type": "code",
   "execution_count": null,
   "id": "fb130764",
   "metadata": {},
   "outputs": [],
   "source": [
    "#백준 10809 알파벳 찾기(2)\n",
    "\n",
    "X = input()\n",
    "abc = 'abcdefghijklmnopqrstuvwxyz'\n",
    "\n",
    "for i in abc:\n",
    "    if i in X:    #index함수를 통해 X 위치의 알파벳을 반환\n",
    "        print(X.index(i), end= ' ') #한 칸씩 띄어서 위치 반환 -->' '\n",
    "    else:\n",
    "        print( -1, end = ' ')   #존재하지 않는 알파벳을 -1 로 반환\n",
    "        \n",
    "        "
   ]
  },
  {
   "cell_type": "code",
   "execution_count": null,
   "id": "f28c91e0",
   "metadata": {},
   "outputs": [],
   "source": [
    "#백준 10818 최소,최대 \n",
    "\n",
    "a = int(input())     #정수의 개수 입력 받기\n",
    "b = list(map(int,input().split()))   #정수 입력 받기+input().split()을 통해 공백으로 구분하기\n",
    "max = b[0]   \n",
    "min = b[0]    #각각 첫 번쨰 요소 넣어주기 \n",
    "\n",
    "for i in b[1:]:    #b의 두번째 요소부터 마지막 요소까지 비교\n",
    "    if i > max :\n",
    "        max = i        #max보다 크면 max 값을 바꿔주고 \n",
    "    elif i < min:\n",
    "        min = i     #min 보다 작으면 min 값을 바꿔준다. \n",
    "\n",
    "        \n",
    "print (min,max)\n",
    "\n"
   ]
  },
  {
   "cell_type": "code",
   "execution_count": null,
   "id": "ccf81078",
   "metadata": {},
   "outputs": [],
   "source": [
    "#백준 10818 최소,최대 (2)\n",
    "\n",
    "a= int(input())\n",
    "b = list(map(int,input().split()))\n",
    "print(min(b),max(b))          #그냥 파이썬의 내장함수 min()/max()사용\n"
   ]
  },
  {
   "cell_type": "code",
   "execution_count": null,
   "id": "5a6c09f8",
   "metadata": {},
   "outputs": [],
   "source": [
    "#백준 10871 x보다 작은 수 \n",
    "\n",
    "a, b = map(int, input().split())\n",
    "c = list(map(int, input().split()))  #c에 입력되는 수를 list에 정수로\n",
    "\n",
    "for i in range(a):\n",
    "    if c[i] < b:\n",
    "        print(c[i], end= \" \")\n",
    "         \n",
    "         "
   ]
  },
  {
   "cell_type": "code",
   "execution_count": null,
   "id": "ebee9ef7",
   "metadata": {},
   "outputs": [],
   "source": [
    "#백준 10950 a+b-3\n",
    "c=int(input())\n",
    "for i in range(c):\n",
    "    a,b = map(int,input().split())\n",
    "    print (a+b)\n"
   ]
  },
  {
   "cell_type": "code",
   "execution_count": 1,
   "id": "65cc92e5",
   "metadata": {},
   "outputs": [
    {
     "name": "stdout",
     "output_type": "stream",
     "text": [
      "3 5\n",
      "8\n",
      "5 5\n",
      "10\n",
      "66\n"
     ]
    }
   ],
   "source": [
    "#백준 10951 a+b - 4\n",
    "\n",
    "#try, except 문\n",
    "#try블록 수행 중 오류 시 except 블록이 수행 \n",
    "\n",
    "#while : ~~까지 작업을 수행 Or break문을 통해 중지\n",
    "\n",
    "while 1:\n",
    "    try:\n",
    "        a,b = map(int,input().split())\n",
    "        print(a+b)\n",
    "    except:\n",
    "        break"
   ]
  },
  {
   "cell_type": "code",
   "execution_count": 2,
   "id": "7f4f71f9",
   "metadata": {},
   "outputs": [
    {
     "name": "stdout",
     "output_type": "stream",
     "text": [
      "6 6\n",
      "12\n",
      "23498 34209\n",
      "57707\n",
      "3993 33\n",
      "4026\n",
      "33333 22 \n",
      "33355\n",
      "2\n"
     ]
    }
   ],
   "source": [
    "#백준 10951 a+b - 4\n",
    "\n",
    "try:\n",
    "    while 1:\n",
    "        a,b = map(int,input().split())\n",
    "        print (a+b)\n",
    "\n",
    "except:\n",
    "    exit()\n",
    "    "
   ]
  }
 ],
 "metadata": {
  "kernelspec": {
   "display_name": "Python 3 (ipykernel)",
   "language": "python",
   "name": "python3"
  },
  "language_info": {
   "codemirror_mode": {
    "name": "ipython",
    "version": 3
   },
   "file_extension": ".py",
   "mimetype": "text/x-python",
   "name": "python",
   "nbconvert_exporter": "python",
   "pygments_lexer": "ipython3",
   "version": "3.10.5"
  }
 },
 "nbformat": 4,
 "nbformat_minor": 5
}
